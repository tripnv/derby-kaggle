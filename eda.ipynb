{
 "cells": [
  {
   "cell_type": "code",
   "execution_count": 1,
   "metadata": {},
   "outputs": [],
   "source": [
    "import pandas as pd\n",
    "import matplotlib.pyplot as plt\n",
    "import seaborn as sns\n",
    "import os"
   ]
  },
  {
   "cell_type": "code",
   "execution_count": 2,
   "metadata": {},
   "outputs": [],
   "source": [
    "DATA_PATH = './data/'"
   ]
  },
  {
   "cell_type": "code",
   "execution_count": 3,
   "metadata": {},
   "outputs": [
    {
     "data": {
      "text/plain": [
       "['nyra_tracking_table.csv',\n",
       " 'big-data-derby-2022.zip',\n",
       " 'nyra_start_table.csv',\n",
       " 'nyra_2019_complete.csv',\n",
       " 'nyra_race_table.csv']"
      ]
     },
     "execution_count": 3,
     "metadata": {},
     "output_type": "execute_result"
    }
   ],
   "source": [
    "os.listdir(DATA_PATH)"
   ]
  },
  {
   "cell_type": "markdown",
   "metadata": {},
   "source": [
    "#### File descriptions \n",
    "File descriptions <br>\n",
    "nyra_start_table.csv - horse/jockey race data <br>\n",
    "nyra_race_table.csv - racetrack race data <br>\n",
    "nyra_tracking_table.csv - tracking data <br>\n",
    "nyra_2019_complete.csv - combined table of three above files <br>\n"
   ]
  },
  {
   "cell_type": "markdown",
   "metadata": {},
   "source": [
    "#### Start table\n",
    "horse/jockey race data"
   ]
  },
  {
   "cell_type": "markdown",
   "metadata": {},
   "source": [
    "track_id - 3 character id for the track the race took place at. AQU -Aqueduct, BEL - Belmont, SAR - Saratoga.\n",
    "\n",
    "race_date - date the race took place. YYYY-MM-DD.\n",
    "\n",
    "race_number - Number of the race. Passed as 3 characters but can be cast or converted to int for this data set.\n",
    "\n",
    "program_number - Program number of the horse in the race passed as 3 characters. Should remain 3 characters as it isn't limited to just numbers. Is essentially the unique identifier of the horse in the race.\n",
    "\n",
    "weight_carried - An integer of the weight carried by the horse in the race.\n",
    "\n",
    "jockey - Name of the jockey on the horse in the race. 50 character max.\n",
    "\n",
    "odds - Odds to win the race passed as an integer. Divide by 100 to derive the odds to 1. Example - 1280 would be 12.8-1.\n",
    "\n",
    "position_at_finish - An integer of the horse's finishing position. (added to the dataset 9/8/22)"
   ]
  },
  {
   "cell_type": "code",
   "execution_count": 4,
   "metadata": {},
   "outputs": [],
   "source": [
    "start_table = pd.read_csv(DATA_PATH + 'nyra_start_table.csv')"
   ]
  },
  {
   "cell_type": "code",
   "execution_count": 37,
   "metadata": {},
   "outputs": [],
   "source": [
    "start_table.columns = ['track_id', 'race_date', 'race_id', 'horse_id', 'weight', 'jockey', 'odds', 'position_at_finish']"
   ]
  },
  {
   "cell_type": "code",
   "execution_count": 38,
   "metadata": {},
   "outputs": [
    {
     "name": "stdout",
     "output_type": "stream",
     "text": [
      "<class 'pandas.core.frame.DataFrame'>\n",
      "RangeIndex: 14914 entries, 0 to 14913\n",
      "Data columns (total 8 columns):\n",
      " #   Column              Non-Null Count  Dtype \n",
      "---  ------              --------------  ----- \n",
      " 0   track_id            14914 non-null  object\n",
      " 1   race_date           14914 non-null  object\n",
      " 2   race_id             14914 non-null  int64 \n",
      " 3   horse_id            14914 non-null  object\n",
      " 4   weight              14914 non-null  int64 \n",
      " 5   jockey              14914 non-null  object\n",
      " 6   odds                14914 non-null  int64 \n",
      " 7   position_at_finish  14914 non-null  int64 \n",
      "dtypes: int64(4), object(4)\n",
      "memory usage: 932.2+ KB\n"
     ]
    }
   ],
   "source": [
    "start_table.info()"
   ]
  },
  {
   "cell_type": "code",
   "execution_count": 39,
   "metadata": {},
   "outputs": [
    {
     "data": {
      "text/html": [
       "<div>\n",
       "<style scoped>\n",
       "    .dataframe tbody tr th:only-of-type {\n",
       "        vertical-align: middle;\n",
       "    }\n",
       "\n",
       "    .dataframe tbody tr th {\n",
       "        vertical-align: top;\n",
       "    }\n",
       "\n",
       "    .dataframe thead th {\n",
       "        text-align: right;\n",
       "    }\n",
       "</style>\n",
       "<table border=\"1\" class=\"dataframe\">\n",
       "  <thead>\n",
       "    <tr style=\"text-align: right;\">\n",
       "      <th></th>\n",
       "      <th>track_id</th>\n",
       "      <th>race_date</th>\n",
       "      <th>race_id</th>\n",
       "      <th>horse_id</th>\n",
       "      <th>weight</th>\n",
       "      <th>jockey</th>\n",
       "      <th>odds</th>\n",
       "      <th>position_at_finish</th>\n",
       "    </tr>\n",
       "  </thead>\n",
       "  <tbody>\n",
       "    <tr>\n",
       "      <th>0</th>\n",
       "      <td>AQU</td>\n",
       "      <td>2019-01-01</td>\n",
       "      <td>1</td>\n",
       "      <td>2</td>\n",
       "      <td>120</td>\n",
       "      <td>Junior Alvarado</td>\n",
       "      <td>295</td>\n",
       "      <td>3</td>\n",
       "    </tr>\n",
       "    <tr>\n",
       "      <th>1</th>\n",
       "      <td>AQU</td>\n",
       "      <td>2019-01-01</td>\n",
       "      <td>1</td>\n",
       "      <td>3</td>\n",
       "      <td>118</td>\n",
       "      <td>Jose Lezcano</td>\n",
       "      <td>180</td>\n",
       "      <td>4</td>\n",
       "    </tr>\n",
       "    <tr>\n",
       "      <th>2</th>\n",
       "      <td>AQU</td>\n",
       "      <td>2019-01-01</td>\n",
       "      <td>1</td>\n",
       "      <td>4</td>\n",
       "      <td>123</td>\n",
       "      <td>Jomar Garcia</td>\n",
       "      <td>1280</td>\n",
       "      <td>5</td>\n",
       "    </tr>\n",
       "    <tr>\n",
       "      <th>3</th>\n",
       "      <td>AQU</td>\n",
       "      <td>2019-01-01</td>\n",
       "      <td>1</td>\n",
       "      <td>5</td>\n",
       "      <td>118</td>\n",
       "      <td>Manuel Franco</td>\n",
       "      <td>1150</td>\n",
       "      <td>1</td>\n",
       "    </tr>\n",
       "    <tr>\n",
       "      <th>4</th>\n",
       "      <td>AQU</td>\n",
       "      <td>2019-01-01</td>\n",
       "      <td>2</td>\n",
       "      <td>1</td>\n",
       "      <td>121</td>\n",
       "      <td>Jose Lezcano</td>\n",
       "      <td>220</td>\n",
       "      <td>2</td>\n",
       "    </tr>\n",
       "  </tbody>\n",
       "</table>\n",
       "</div>"
      ],
      "text/plain": [
       "  track_id   race_date  race_id horse_id  weight           jockey  odds  \\\n",
       "0      AQU  2019-01-01        1      2       120  Junior Alvarado   295   \n",
       "1      AQU  2019-01-01        1      3       118     Jose Lezcano   180   \n",
       "2      AQU  2019-01-01        1      4       123     Jomar Garcia  1280   \n",
       "3      AQU  2019-01-01        1      5       118    Manuel Franco  1150   \n",
       "4      AQU  2019-01-01        2      1       121     Jose Lezcano   220   \n",
       "\n",
       "   position_at_finish  \n",
       "0                   3  \n",
       "1                   4  \n",
       "2                   5  \n",
       "3                   1  \n",
       "4                   2  "
      ]
     },
     "execution_count": 39,
     "metadata": {},
     "output_type": "execute_result"
    }
   ],
   "source": [
    "start_table.head(5)"
   ]
  },
  {
   "cell_type": "code",
   "execution_count": 40,
   "metadata": {},
   "outputs": [
    {
     "data": {
      "text/html": [
       "<div>\n",
       "<style scoped>\n",
       "    .dataframe tbody tr th:only-of-type {\n",
       "        vertical-align: middle;\n",
       "    }\n",
       "\n",
       "    .dataframe tbody tr th {\n",
       "        vertical-align: top;\n",
       "    }\n",
       "\n",
       "    .dataframe thead th {\n",
       "        text-align: right;\n",
       "    }\n",
       "</style>\n",
       "<table border=\"1\" class=\"dataframe\">\n",
       "  <thead>\n",
       "    <tr style=\"text-align: right;\">\n",
       "      <th></th>\n",
       "      <th>count</th>\n",
       "      <th>mean</th>\n",
       "      <th>std</th>\n",
       "      <th>min</th>\n",
       "      <th>25%</th>\n",
       "      <th>50%</th>\n",
       "      <th>75%</th>\n",
       "      <th>max</th>\n",
       "    </tr>\n",
       "  </thead>\n",
       "  <tbody>\n",
       "    <tr>\n",
       "      <th>race_id</th>\n",
       "      <td>14914.0</td>\n",
       "      <td>5.494502</td>\n",
       "      <td>2.825914</td>\n",
       "      <td>1.0</td>\n",
       "      <td>3.0</td>\n",
       "      <td>6.0</td>\n",
       "      <td>8.0</td>\n",
       "      <td>13.0</td>\n",
       "    </tr>\n",
       "    <tr>\n",
       "      <th>weight</th>\n",
       "      <td>14914.0</td>\n",
       "      <td>120.453869</td>\n",
       "      <td>3.522064</td>\n",
       "      <td>110.0</td>\n",
       "      <td>118.0</td>\n",
       "      <td>120.0</td>\n",
       "      <td>122.0</td>\n",
       "      <td>160.0</td>\n",
       "    </tr>\n",
       "    <tr>\n",
       "      <th>odds</th>\n",
       "      <td>14914.0</td>\n",
       "      <td>1483.587233</td>\n",
       "      <td>1956.171339</td>\n",
       "      <td>0.0</td>\n",
       "      <td>335.0</td>\n",
       "      <td>730.0</td>\n",
       "      <td>1740.0</td>\n",
       "      <td>19100.0</td>\n",
       "    </tr>\n",
       "    <tr>\n",
       "      <th>position_at_finish</th>\n",
       "      <td>14914.0</td>\n",
       "      <td>4.486255</td>\n",
       "      <td>2.569149</td>\n",
       "      <td>1.0</td>\n",
       "      <td>2.0</td>\n",
       "      <td>4.0</td>\n",
       "      <td>6.0</td>\n",
       "      <td>14.0</td>\n",
       "    </tr>\n",
       "  </tbody>\n",
       "</table>\n",
       "</div>"
      ],
      "text/plain": [
       "                      count         mean          std    min    25%    50%  \\\n",
       "race_id             14914.0     5.494502     2.825914    1.0    3.0    6.0   \n",
       "weight              14914.0   120.453869     3.522064  110.0  118.0  120.0   \n",
       "odds                14914.0  1483.587233  1956.171339    0.0  335.0  730.0   \n",
       "position_at_finish  14914.0     4.486255     2.569149    1.0    2.0    4.0   \n",
       "\n",
       "                       75%      max  \n",
       "race_id                8.0     13.0  \n",
       "weight               122.0    160.0  \n",
       "odds                1740.0  19100.0  \n",
       "position_at_finish     6.0     14.0  "
      ]
     },
     "execution_count": 40,
     "metadata": {},
     "output_type": "execute_result"
    }
   ],
   "source": [
    "start_table.describe().T"
   ]
  },
  {
   "cell_type": "code",
   "execution_count": 41,
   "metadata": {},
   "outputs": [
    {
     "data": {
      "text/plain": [
       "track_id                3\n",
       "race_date             217\n",
       "race_id                13\n",
       "horse_id               20\n",
       "weight                 35\n",
       "jockey                178\n",
       "odds                  656\n",
       "position_at_finish     14\n",
       "dtype: int64"
      ]
     },
     "execution_count": 41,
     "metadata": {},
     "output_type": "execute_result"
    }
   ],
   "source": [
    "start_table.nunique()"
   ]
  },
  {
   "cell_type": "markdown",
   "metadata": {},
   "source": [
    "So, now we now, that this dataset inculdes:\n",
    "\n",
    "- 3 tracks\n",
    "- 13 races \n",
    "    - spread across 217 dates\n",
    "- 20 horses ids \n",
    "    - Does this mean 20 horses in total, or each race resets the horse id, meaning substantially more horses?\n",
    "- 178 jockeys\n",
    "- various odds \n",
    "- and the fact that there are a max of 14 participants in a race "
   ]
  },
  {
   "cell_type": "code",
   "execution_count": 42,
   "metadata": {},
   "outputs": [
    {
     "data": {
      "text/plain": [
       "Text(0.5, 1.0, 'Distribution of weight carried')"
      ]
     },
     "execution_count": 42,
     "metadata": {},
     "output_type": "execute_result"
    },
    {
     "data": {
      "image/png": "[encoded data removed]",
      "text/plain": [
       "<Figure size 1440x720 with 1 Axes>"
      ]
     },
     "metadata": {
      "needs_background": "light"
     },
     "output_type": "display_data"
    }
   ],
   "source": [
    "plt.figure(figsize = (20,10))\n",
    "plt.hist(start_table.weight, rwidth=.95, bins = 20)\n",
    "plt.grid(alpha = .25)\n",
    "plt.box(False)\n",
    "plt.title('Distribution of weight carried')"
   ]
  },
  {
   "cell_type": "code",
   "execution_count": 43,
   "metadata": {},
   "outputs": [
    {
     "name": "stdout",
     "output_type": "stream",
     "text": [
      "First entry: 2019-01-01\n",
      "Last entry: 2019-12-31\n",
      "Num days: 217\n"
     ]
    }
   ],
   "source": [
    "print(f\"First entry: {start_table.race_date.min()}\")\n",
    "print(f\"Last entry: {start_table.race_date.max()}\")\n",
    "print(f\"Num days: {start_table.race_date.nunique()}\")"
   ]
  },
  {
   "cell_type": "code",
   "execution_count": 52,
   "metadata": {},
   "outputs": [
    {
     "name": "stdout",
     "output_type": "stream",
     "text": [
      "\n",
      "Days count per track:\n",
      "track_id\n",
      "AQU    6190\n",
      "BEL    5539\n",
      "SAR    3185\n",
      "Name: race_date, dtype: int64\n"
     ]
    }
   ],
   "source": [
    "print(f\"\\nRuns (horse + jockey) per track:\\n{start_table.groupby(by =  'track_id').race_date.count()}\")\n"
   ]
  },
  {
   "cell_type": "code",
   "execution_count": 48,
   "metadata": {},
   "outputs": [
    {
     "name": "stdout",
     "output_type": "stream",
     "text": [
      "\n",
      "Unique days per track:\n",
      "track_id\n",
      "AQU    93\n",
      "BEL    85\n",
      "SAR    39\n",
      "Name: race_date, dtype: int64\n"
     ]
    }
   ],
   "source": [
    "print(f\"\\nUnique days per track:\\n{start_table.groupby(by =  'track_id').race_date.nunique()}\")\n"
   ]
  },
  {
   "cell_type": "code",
   "execution_count": 49,
   "metadata": {},
   "outputs": [
    {
     "name": "stdout",
     "output_type": "stream",
     "text": [
      "\n",
      "Unique races per track:\n",
      "track_id\n",
      "AQU    11\n",
      "BEL    13\n",
      "SAR    13\n",
      "Name: race_id, dtype: int64\n"
     ]
    }
   ],
   "source": [
    "print(f\"\\nUnique races per track:\\n{start_table.groupby(by =  'track_id').race_id.nunique()}\")\n"
   ]
  },
  {
   "cell_type": "code",
   "execution_count": 50,
   "metadata": {},
   "outputs": [
    {
     "name": "stdout",
     "output_type": "stream",
     "text": [
      "\n",
      "Unique horses per track:\n",
      "track_id\n",
      "AQU    18\n",
      "BEL    20\n",
      "SAR    18\n",
      "Name: horse_id, dtype: int64\n"
     ]
    }
   ],
   "source": [
    "print(f\"\\nUnique horses per track:\\n{start_table.groupby(by =  'track_id').horse_id.nunique()}\")\n"
   ]
  },
  {
   "cell_type": "code",
   "execution_count": 51,
   "metadata": {},
   "outputs": [
    {
     "name": "stdout",
     "output_type": "stream",
     "text": [
      "\n",
      "Unique jockeys per track:\n",
      "track_id\n",
      "AQU    107\n",
      "BEL    113\n",
      "SAR     91\n",
      "Name: jockey, dtype: int64\n"
     ]
    }
   ],
   "source": [
    "print(f\"\\nUnique jockeys per track:\\n{start_table.groupby(by =  'track_id').jockey.nunique()}\")"
   ]
  },
  {
   "cell_type": "code",
   "execution_count": null,
   "metadata": {},
   "outputs": [],
   "source": []
  }
 ],
 "metadata": {
  "kernelspec": {
   "display_name": "Python 3.9.9 ('exp')",
   "language": "python",
   "name": "python3"
  },
  "language_info": {
   "codemirror_mode": {
    "name": "ipython",
    "version": 3
   },
   "file_extension": ".py",
   "mimetype": "text/x-python",
   "name": "python",
   "nbconvert_exporter": "python",
   "pygments_lexer": "ipython3",
   "version": "3.9.9"
  },
  "orig_nbformat": 4,
  "vscode": {
   "interpreter": {
    "hash": "b7d9b83467eda07c7dcec41582b0623e164b4685431fddd627aa809781990b03"
   }
  }
 },
 "nbformat": 4,
 "nbformat_minor": 2
}
