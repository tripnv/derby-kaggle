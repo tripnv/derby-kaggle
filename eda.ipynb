{
 "cells": [
  {
   "cell_type": "code",
   "execution_count": 4,
   "metadata": {},
   "outputs": [],
   "source": [
    "import pandas as pd\n",
    "import matplotlib.pyplot as plt\n",
    "import seaborn as sns\n",
    "import os"
   ]
  },
  {
   "cell_type": "code",
   "execution_count": 3,
   "metadata": {},
   "outputs": [],
   "source": [
    "DATA_PATH = './data/'"
   ]
  },
  {
   "cell_type": "code",
   "execution_count": 5,
   "metadata": {},
   "outputs": [
    {
     "data": {
      "text/plain": [
       "['nyra_start_table.csv',\n",
       " 'nyra_race_table.csv',\n",
       " 'nyra_2019_complete.csv',\n",
       " 'nyra_tracking_table.csv']"
      ]
     },
     "execution_count": 5,
     "metadata": {},
     "output_type": "execute_result"
    }
   ],
   "source": [
    "os.listdir(DATA_PATH)"
   ]
  },
  {
   "cell_type": "markdown",
   "metadata": {},
   "source": [
    "#### File descriptions \n",
    "File descriptions <br>\n",
    "nyra_start_table.csv - horse/jockey race data <br>\n",
    "nyra_race_table.csv - racetrack race data <br>\n",
    "nyra_tracking_table.csv - tracking data <br>\n",
    "nyra_2019_complete.csv - combined table of three above files <br>\n"
   ]
  },
  {
   "cell_type": "markdown",
   "metadata": {},
   "source": [
    "#### Start table\n",
    "horse/jockey race data"
   ]
  },
  {
   "cell_type": "markdown",
   "metadata": {},
   "source": [
    "track_id - 3 character id for the track the race took place at. AQU -Aqueduct, BEL - Belmont, SAR - Saratoga.\n",
    "\n",
    "race_date - date the race took place. YYYY-MM-DD.\n",
    "\n",
    "race_number - Number of the race. Passed as 3 characters but can be cast or converted to int for this data set.\n",
    "\n",
    "program_number - Program number of the horse in the race passed as 3 characters. Should remain 3 characters as it isn't limited to just numbers. Is essentially the unique identifier of the horse in the race.\n",
    "\n",
    "weight_carried - An integer of the weight carried by the horse in the race.\n",
    "\n",
    "jockey - Name of the jockey on the horse in the race. 50 character max.\n",
    "\n",
    "odds - Odds to win the race passed as an integer. Divide by 100 to derive the odds to 1. Example - 1280 would be 12.8-1.\n",
    "\n",
    "position_at_finish - An integer of the horse's finishing position. (added to the dataset 9/8/22)"
   ]
  },
  {
   "cell_type": "code",
   "execution_count": 6,
   "metadata": {},
   "outputs": [],
   "source": [
    "start_table = pd.read_csv(DATA_PATH + 'nyra_start_table.csv')"
   ]
  },
  {
   "cell_type": "code",
   "execution_count": 11,
   "metadata": {},
   "outputs": [],
   "source": [
    "start_table.columns = ['track_id', 'race_date', 'race_id', 'horse_race_id', 'weight', 'jockey', 'odds', 'position_at_finish']"
   ]
  },
  {
   "cell_type": "code",
   "execution_count": 12,
   "metadata": {},
   "outputs": [
    {
     "name": "stdout",
     "output_type": "stream",
     "text": [
      "<class 'pandas.core.frame.DataFrame'>\n",
      "RangeIndex: 14914 entries, 0 to 14913\n",
      "Data columns (total 8 columns):\n",
      " #   Column              Non-Null Count  Dtype \n",
      "---  ------              --------------  ----- \n",
      " 0   track_id            14914 non-null  object\n",
      " 1   race_date           14914 non-null  object\n",
      " 2   race_id             14914 non-null  int64 \n",
      " 3   horse_race_id       14914 non-null  object\n",
      " 4   weight              14914 non-null  int64 \n",
      " 5   jockey              14914 non-null  object\n",
      " 6   odds                14914 non-null  int64 \n",
      " 7   position_at_finish  14914 non-null  int64 \n",
      "dtypes: int64(4), object(4)\n",
      "memory usage: 932.2+ KB\n"
     ]
    }
   ],
   "source": [
    "start_table.info()"
   ]
  },
  {
   "cell_type": "code",
   "execution_count": 13,
   "metadata": {},
   "outputs": [
    {
     "data": {
      "text/html": [
       "<div>\n",
       "<style scoped>\n",
       "    .dataframe tbody tr th:only-of-type {\n",
       "        vertical-align: middle;\n",
       "    }\n",
       "\n",
       "    .dataframe tbody tr th {\n",
       "        vertical-align: top;\n",
       "    }\n",
       "\n",
       "    .dataframe thead th {\n",
       "        text-align: right;\n",
       "    }\n",
       "</style>\n",
       "<table border=\"1\" class=\"dataframe\">\n",
       "  <thead>\n",
       "    <tr style=\"text-align: right;\">\n",
       "      <th></th>\n",
       "      <th>track_id</th>\n",
       "      <th>race_date</th>\n",
       "      <th>race_id</th>\n",
       "      <th>horse_race_id</th>\n",
       "      <th>weight</th>\n",
       "      <th>jockey</th>\n",
       "      <th>odds</th>\n",
       "      <th>position_at_finish</th>\n",
       "    </tr>\n",
       "  </thead>\n",
       "  <tbody>\n",
       "    <tr>\n",
       "      <th>0</th>\n",
       "      <td>AQU</td>\n",
       "      <td>2019-01-01</td>\n",
       "      <td>1</td>\n",
       "      <td>2</td>\n",
       "      <td>120</td>\n",
       "      <td>Junior Alvarado</td>\n",
       "      <td>295</td>\n",
       "      <td>3</td>\n",
       "    </tr>\n",
       "    <tr>\n",
       "      <th>1</th>\n",
       "      <td>AQU</td>\n",
       "      <td>2019-01-01</td>\n",
       "      <td>1</td>\n",
       "      <td>3</td>\n",
       "      <td>118</td>\n",
       "      <td>Jose Lezcano</td>\n",
       "      <td>180</td>\n",
       "      <td>4</td>\n",
       "    </tr>\n",
       "    <tr>\n",
       "      <th>2</th>\n",
       "      <td>AQU</td>\n",
       "      <td>2019-01-01</td>\n",
       "      <td>1</td>\n",
       "      <td>4</td>\n",
       "      <td>123</td>\n",
       "      <td>Jomar Garcia</td>\n",
       "      <td>1280</td>\n",
       "      <td>5</td>\n",
       "    </tr>\n",
       "    <tr>\n",
       "      <th>3</th>\n",
       "      <td>AQU</td>\n",
       "      <td>2019-01-01</td>\n",
       "      <td>1</td>\n",
       "      <td>5</td>\n",
       "      <td>118</td>\n",
       "      <td>Manuel Franco</td>\n",
       "      <td>1150</td>\n",
       "      <td>1</td>\n",
       "    </tr>\n",
       "    <tr>\n",
       "      <th>4</th>\n",
       "      <td>AQU</td>\n",
       "      <td>2019-01-01</td>\n",
       "      <td>2</td>\n",
       "      <td>1</td>\n",
       "      <td>121</td>\n",
       "      <td>Jose Lezcano</td>\n",
       "      <td>220</td>\n",
       "      <td>2</td>\n",
       "    </tr>\n",
       "  </tbody>\n",
       "</table>\n",
       "</div>"
      ],
      "text/plain": [
       "  track_id   race_date  race_id horse_race_id  weight           jockey  odds  \\\n",
       "0      AQU  2019-01-01        1           2       120  Junior Alvarado   295   \n",
       "1      AQU  2019-01-01        1           3       118     Jose Lezcano   180   \n",
       "2      AQU  2019-01-01        1           4       123     Jomar Garcia  1280   \n",
       "3      AQU  2019-01-01        1           5       118    Manuel Franco  1150   \n",
       "4      AQU  2019-01-01        2           1       121     Jose Lezcano   220   \n",
       "\n",
       "   position_at_finish  \n",
       "0                   3  \n",
       "1                   4  \n",
       "2                   5  \n",
       "3                   1  \n",
       "4                   2  "
      ]
     },
     "execution_count": 13,
     "metadata": {},
     "output_type": "execute_result"
    }
   ],
   "source": [
    "start_table.head(5)"
   ]
  },
  {
   "cell_type": "code",
   "execution_count": 18,
   "metadata": {},
   "outputs": [
    {
     "data": {
      "text/html": [
       "<div>\n",
       "<style scoped>\n",
       "    .dataframe tbody tr th:only-of-type {\n",
       "        vertical-align: middle;\n",
       "    }\n",
       "\n",
       "    .dataframe tbody tr th {\n",
       "        vertical-align: top;\n",
       "    }\n",
       "\n",
       "    .dataframe thead th {\n",
       "        text-align: right;\n",
       "    }\n",
       "</style>\n",
       "<table border=\"1\" class=\"dataframe\">\n",
       "  <thead>\n",
       "    <tr style=\"text-align: right;\">\n",
       "      <th></th>\n",
       "      <th>count</th>\n",
       "      <th>mean</th>\n",
       "      <th>std</th>\n",
       "      <th>min</th>\n",
       "      <th>25%</th>\n",
       "      <th>50%</th>\n",
       "      <th>75%</th>\n",
       "      <th>max</th>\n",
       "    </tr>\n",
       "  </thead>\n",
       "  <tbody>\n",
       "    <tr>\n",
       "      <th>race_id</th>\n",
       "      <td>14914.0</td>\n",
       "      <td>5.494502</td>\n",
       "      <td>2.825914</td>\n",
       "      <td>1.0</td>\n",
       "      <td>3.0</td>\n",
       "      <td>6.0</td>\n",
       "      <td>8.0</td>\n",
       "      <td>13.0</td>\n",
       "    </tr>\n",
       "    <tr>\n",
       "      <th>weight</th>\n",
       "      <td>14914.0</td>\n",
       "      <td>120.453869</td>\n",
       "      <td>3.522064</td>\n",
       "      <td>110.0</td>\n",
       "      <td>118.0</td>\n",
       "      <td>120.0</td>\n",
       "      <td>122.0</td>\n",
       "      <td>160.0</td>\n",
       "    </tr>\n",
       "    <tr>\n",
       "      <th>odds</th>\n",
       "      <td>14914.0</td>\n",
       "      <td>1483.587233</td>\n",
       "      <td>1956.171339</td>\n",
       "      <td>0.0</td>\n",
       "      <td>335.0</td>\n",
       "      <td>730.0</td>\n",
       "      <td>1740.0</td>\n",
       "      <td>19100.0</td>\n",
       "    </tr>\n",
       "    <tr>\n",
       "      <th>position_at_finish</th>\n",
       "      <td>14914.0</td>\n",
       "      <td>4.486255</td>\n",
       "      <td>2.569149</td>\n",
       "      <td>1.0</td>\n",
       "      <td>2.0</td>\n",
       "      <td>4.0</td>\n",
       "      <td>6.0</td>\n",
       "      <td>14.0</td>\n",
       "    </tr>\n",
       "  </tbody>\n",
       "</table>\n",
       "</div>"
      ],
      "text/plain": [
       "                      count         mean          std    min    25%    50%  \\\n",
       "race_id             14914.0     5.494502     2.825914    1.0    3.0    6.0   \n",
       "weight              14914.0   120.453869     3.522064  110.0  118.0  120.0   \n",
       "odds                14914.0  1483.587233  1956.171339    0.0  335.0  730.0   \n",
       "position_at_finish  14914.0     4.486255     2.569149    1.0    2.0    4.0   \n",
       "\n",
       "                       75%      max  \n",
       "race_id                8.0     13.0  \n",
       "weight               122.0    160.0  \n",
       "odds                1740.0  19100.0  \n",
       "position_at_finish     6.0     14.0  "
      ]
     },
     "execution_count": 18,
     "metadata": {},
     "output_type": "execute_result"
    }
   ],
   "source": [
    "start_table.describe().T"
   ]
  },
  {
   "cell_type": "code",
   "execution_count": 26,
   "metadata": {},
   "outputs": [
    {
     "data": {
      "text/plain": [
       "track_id                3\n",
       "race_date             217\n",
       "race_id                13\n",
       "horse_race_id          20\n",
       "weight                 35\n",
       "jockey                178\n",
       "odds                  656\n",
       "position_at_finish     14\n",
       "dtype: int64"
      ]
     },
     "execution_count": 26,
     "metadata": {},
     "output_type": "execute_result"
    }
   ],
   "source": [
    "start_table.nunique()"
   ]
  },
  {
   "cell_type": "markdown",
   "metadata": {},
   "source": [
    "So, now we now, that this dataset inculdes:\n",
    "\n",
    "- 3 tracks\n",
    "- 13 races \n",
    "    - spread across 217 dates\n",
    "- 20 horses ids \n",
    "    - Does this mean 20 horses in total, or each race resets the horse id, meaning substantially more horses?\n",
    "- 178 jockeys\n",
    "- various odds \n",
    "- and the fact that there are a max of 14 participants in a race "
   ]
  },
  {
   "cell_type": "code",
   "execution_count": 33,
   "metadata": {},
   "outputs": [
    {
     "data": {
      "text/plain": [
       "Text(0.5, 1.0, 'Distribution of weight carried')"
      ]
     },
     "execution_count": 33,
     "metadata": {},
     "output_type": "execute_result"
    },
    {
     "data": {
      "image/png": "[encoded data removed]",
      "text/plain": [
       "<Figure size 1440x720 with 1 Axes>"
      ]
     },
     "metadata": {
      "needs_background": "light"
     },
     "output_type": "display_data"
    }
   ],
   "source": [
    "plt.figure(figsize = (20,10))\n",
    "plt.hist(start_table.weight, rwidth=.95, bins = 20)\n",
    "plt.grid(alpha = .25)\n",
    "plt.box(False)\n",
    "plt.title('Distribution of weight carried')"
   ]
  },
  {
   "cell_type": "code",
   "execution_count": 39,
   "metadata": {},
   "outputs": [
    {
     "name": "stdout",
     "output_type": "stream",
     "text": [
      "First entry: 2019-01-01\n",
      "Last entry: 2019-12-31\n",
      "Num days: 217\n"
     ]
    }
   ],
   "source": [
    "print(f\"First entry: {start_table.race_date.min()}\")\n",
    "print(f\"Last entry: {start_table.race_date.max()}\")\n",
    "print(f\"Num days: {start_table.race_date.nunique()}\")"
   ]
  },
  {
   "cell_type": "code",
   "execution_count": 45,
   "metadata": {},
   "outputs": [
    {
     "data": {
      "text/plain": [
       "(array([  0,   1,   2,   3,   4,   5,   6,   7,   8,   9,  10,  11,  12,\n",
       "         13,  14,  15,  16,  17,  18,  19,  20,  21,  22,  23,  24,  25,\n",
       "         26,  27,  28,  29,  30,  31,  32,  33,  34,  35,  36,  37,  38,\n",
       "         39,  40,  41,  42,  43,  44,  45,  46,  47,  48,  49,  50,  51,\n",
       "         52,  53,  54,  55,  56,  57,  58,  59,  60,  61,  62,  63,  64,\n",
       "         65,  66,  67,  68,  69,  70,  71,  72,  73,  74,  75,  76,  77,\n",
       "         78,  79,  80,  81,  82,  83,  84,  85,  86,  87,  88,  89,  90,\n",
       "         91,  92,  93,  94,  95,  96,  97,  98,  99, 100, 101, 102, 103,\n",
       "        104, 105, 106, 107, 108, 109, 110, 111, 112, 113, 114, 115, 116,\n",
       "        117, 118, 119, 120, 121, 122, 123, 124, 125, 126, 127, 128, 129,\n",
       "        130, 131, 132, 133, 134, 135, 136, 137, 138, 139, 140, 141, 142,\n",
       "        143, 144, 145, 146, 147, 148, 149, 150, 151, 152, 153, 154, 155,\n",
       "        156, 157, 158, 159, 160, 161, 162, 163, 164, 165, 166, 167, 168,\n",
       "        169, 170, 171, 172, 173, 174, 175, 176, 177, 178, 179, 180, 181,\n",
       "        182, 183, 184, 185, 186, 187, 188, 189, 190, 191, 192, 193, 194,\n",
       "        195, 196, 197, 198, 199, 200, 201, 202, 203, 204, 205, 206, 207,\n",
       "        208, 209, 210, 211, 212, 213, 214, 215, 216]),\n",
       " [Text(0, 0, '2019-01-01'),\n",
       "  Text(1, 0, '2019-01-04'),\n",
       "  Text(2, 0, '2019-01-05'),\n",
       "  Text(3, 0, '2019-01-06'),\n",
       "  Text(4, 0, '2019-01-10'),\n",
       "  Text(5, 0, '2019-01-11'),\n",
       "  Text(6, 0, '2019-01-12'),\n",
       "  Text(7, 0, '2019-01-13'),\n",
       "  Text(8, 0, '2019-01-18'),\n",
       "  Text(9, 0, '2019-01-19'),\n",
       "  Text(10, 0, '2019-01-20'),\n",
       "  Text(11, 0, '2019-01-25'),\n",
       "  Text(12, 0, '2019-01-26'),\n",
       "  Text(13, 0, '2019-01-27'),\n",
       "  Text(14, 0, '2019-02-01'),\n",
       "  Text(15, 0, '2019-02-02'),\n",
       "  Text(16, 0, '2019-02-03'),\n",
       "  Text(17, 0, '2019-02-07'),\n",
       "  Text(18, 0, '2019-02-08'),\n",
       "  Text(19, 0, '2019-02-09'),\n",
       "  Text(20, 0, '2019-02-10'),\n",
       "  Text(21, 0, '2019-02-15'),\n",
       "  Text(22, 0, '2019-02-16'),\n",
       "  Text(23, 0, '2019-02-17'),\n",
       "  Text(24, 0, '2019-02-18'),\n",
       "  Text(25, 0, '2019-02-21'),\n",
       "  Text(26, 0, '2019-02-22'),\n",
       "  Text(27, 0, '2019-02-23'),\n",
       "  Text(28, 0, '2019-02-24'),\n",
       "  Text(29, 0, '2019-02-28'),\n",
       "  Text(30, 0, '2019-03-01'),\n",
       "  Text(31, 0, '2019-03-02'),\n",
       "  Text(32, 0, '2019-03-03'),\n",
       "  Text(33, 0, '2019-03-08'),\n",
       "  Text(34, 0, '2019-03-09'),\n",
       "  Text(35, 0, '2019-03-10'),\n",
       "  Text(36, 0, '2019-03-15'),\n",
       "  Text(37, 0, '2019-03-16'),\n",
       "  Text(38, 0, '2019-03-17'),\n",
       "  Text(39, 0, '2019-03-22'),\n",
       "  Text(40, 0, '2019-03-23'),\n",
       "  Text(41, 0, '2019-03-24'),\n",
       "  Text(42, 0, '2019-03-29'),\n",
       "  Text(43, 0, '2019-03-30'),\n",
       "  Text(44, 0, '2019-03-31'),\n",
       "  Text(45, 0, '2019-04-05'),\n",
       "  Text(46, 0, '2019-04-06'),\n",
       "  Text(47, 0, '2019-04-07'),\n",
       "  Text(48, 0, '2019-04-10'),\n",
       "  Text(49, 0, '2019-04-11'),\n",
       "  Text(50, 0, '2019-04-12'),\n",
       "  Text(51, 0, '2019-04-13'),\n",
       "  Text(52, 0, '2019-04-14'),\n",
       "  Text(53, 0, '2019-04-17'),\n",
       "  Text(54, 0, '2019-04-18'),\n",
       "  Text(55, 0, '2019-04-19'),\n",
       "  Text(56, 0, '2019-04-20'),\n",
       "  Text(57, 0, '2019-11-01'),\n",
       "  Text(58, 0, '2019-11-02'),\n",
       "  Text(59, 0, '2019-11-03'),\n",
       "  Text(60, 0, '2019-11-07'),\n",
       "  Text(61, 0, '2019-11-08'),\n",
       "  Text(62, 0, '2019-11-09'),\n",
       "  Text(63, 0, '2019-11-10'),\n",
       "  Text(64, 0, '2019-11-11'),\n",
       "  Text(65, 0, '2019-11-14'),\n",
       "  Text(66, 0, '2019-11-15'),\n",
       "  Text(67, 0, '2019-11-16'),\n",
       "  Text(68, 0, '2019-11-17'),\n",
       "  Text(69, 0, '2019-11-20'),\n",
       "  Text(70, 0, '2019-11-21'),\n",
       "  Text(71, 0, '2019-11-22'),\n",
       "  Text(72, 0, '2019-11-23'),\n",
       "  Text(73, 0, '2019-11-24'),\n",
       "  Text(74, 0, '2019-11-27'),\n",
       "  Text(75, 0, '2019-11-29'),\n",
       "  Text(76, 0, '2019-11-30'),\n",
       "  Text(77, 0, '2019-12-01'),\n",
       "  Text(78, 0, '2019-12-05'),\n",
       "  Text(79, 0, '2019-12-06'),\n",
       "  Text(80, 0, '2019-12-07'),\n",
       "  Text(81, 0, '2019-12-08'),\n",
       "  Text(82, 0, '2019-12-12'),\n",
       "  Text(83, 0, '2019-12-13'),\n",
       "  Text(84, 0, '2019-12-14'),\n",
       "  Text(85, 0, '2019-12-15'),\n",
       "  Text(86, 0, '2019-12-20'),\n",
       "  Text(87, 0, '2019-12-21'),\n",
       "  Text(88, 0, '2019-12-22'),\n",
       "  Text(89, 0, '2019-12-28'),\n",
       "  Text(90, 0, '2019-12-29'),\n",
       "  Text(91, 0, '2019-12-30'),\n",
       "  Text(92, 0, '2019-12-31'),\n",
       "  Text(93, 0, '2019-04-26'),\n",
       "  Text(94, 0, '2019-04-27'),\n",
       "  Text(95, 0, '2019-04-28'),\n",
       "  Text(96, 0, '2019-05-02'),\n",
       "  Text(97, 0, '2019-05-03'),\n",
       "  Text(98, 0, '2019-05-04'),\n",
       "  Text(99, 0, '2019-05-05'),\n",
       "  Text(100, 0, '2019-05-09'),\n",
       "  Text(101, 0, '2019-05-10'),\n",
       "  Text(102, 0, '2019-05-11'),\n",
       "  Text(103, 0, '2019-05-12'),\n",
       "  Text(104, 0, '2019-05-16'),\n",
       "  Text(105, 0, '2019-05-17'),\n",
       "  Text(106, 0, '2019-05-18'),\n",
       "  Text(107, 0, '2019-05-19'),\n",
       "  Text(108, 0, '2019-05-23'),\n",
       "  Text(109, 0, '2019-05-24'),\n",
       "  Text(110, 0, '2019-05-25'),\n",
       "  Text(111, 0, '2019-05-26'),\n",
       "  Text(112, 0, '2019-05-27'),\n",
       "  Text(113, 0, '2019-05-30'),\n",
       "  Text(114, 0, '2019-05-31'),\n",
       "  Text(115, 0, '2019-06-01'),\n",
       "  Text(116, 0, '2019-06-02'),\n",
       "  Text(117, 0, '2019-06-06'),\n",
       "  Text(118, 0, '2019-06-07'),\n",
       "  Text(119, 0, '2019-06-08'),\n",
       "  Text(120, 0, '2019-06-09'),\n",
       "  Text(121, 0, '2019-06-12'),\n",
       "  Text(122, 0, '2019-06-13'),\n",
       "  Text(123, 0, '2019-06-14'),\n",
       "  Text(124, 0, '2019-06-15'),\n",
       "  Text(125, 0, '2019-06-16'),\n",
       "  Text(126, 0, '2019-06-19'),\n",
       "  Text(127, 0, '2019-06-20'),\n",
       "  Text(128, 0, '2019-06-21'),\n",
       "  Text(129, 0, '2019-06-22'),\n",
       "  Text(130, 0, '2019-06-23'),\n",
       "  Text(131, 0, '2019-06-26'),\n",
       "  Text(132, 0, '2019-06-27'),\n",
       "  Text(133, 0, '2019-06-28'),\n",
       "  Text(134, 0, '2019-06-29'),\n",
       "  Text(135, 0, '2019-06-30'),\n",
       "  Text(136, 0, '2019-07-03'),\n",
       "  Text(137, 0, '2019-07-04'),\n",
       "  Text(138, 0, '2019-07-05'),\n",
       "  Text(139, 0, '2019-07-06'),\n",
       "  Text(140, 0, '2019-07-07'),\n",
       "  Text(141, 0, '2019-09-06'),\n",
       "  Text(142, 0, '2019-09-07'),\n",
       "  Text(143, 0, '2019-09-08'),\n",
       "  Text(144, 0, '2019-09-11'),\n",
       "  Text(145, 0, '2019-09-12'),\n",
       "  Text(146, 0, '2019-09-13'),\n",
       "  Text(147, 0, '2019-09-14'),\n",
       "  Text(148, 0, '2019-09-15'),\n",
       "  Text(149, 0, '2019-09-18'),\n",
       "  Text(150, 0, '2019-09-19'),\n",
       "  Text(151, 0, '2019-09-20'),\n",
       "  Text(152, 0, '2019-09-21'),\n",
       "  Text(153, 0, '2019-09-22'),\n",
       "  Text(154, 0, '2019-09-25'),\n",
       "  Text(155, 0, '2019-09-26'),\n",
       "  Text(156, 0, '2019-09-27'),\n",
       "  Text(157, 0, '2019-09-28'),\n",
       "  Text(158, 0, '2019-09-29'),\n",
       "  Text(159, 0, '2019-10-02'),\n",
       "  Text(160, 0, '2019-10-03'),\n",
       "  Text(161, 0, '2019-10-04'),\n",
       "  Text(162, 0, '2019-10-05'),\n",
       "  Text(163, 0, '2019-10-06'),\n",
       "  Text(164, 0, '2019-10-10'),\n",
       "  Text(165, 0, '2019-10-11'),\n",
       "  Text(166, 0, '2019-10-12'),\n",
       "  Text(167, 0, '2019-10-13'),\n",
       "  Text(168, 0, '2019-10-14'),\n",
       "  Text(169, 0, '2019-10-16'),\n",
       "  Text(170, 0, '2019-10-18'),\n",
       "  Text(171, 0, '2019-10-19'),\n",
       "  Text(172, 0, '2019-10-20'),\n",
       "  Text(173, 0, '2019-10-23'),\n",
       "  Text(174, 0, '2019-10-24'),\n",
       "  Text(175, 0, '2019-10-25'),\n",
       "  Text(176, 0, '2019-10-26'),\n",
       "  Text(177, 0, '2019-10-27'),\n",
       "  Text(178, 0, '2019-07-11'),\n",
       "  Text(179, 0, '2019-07-12'),\n",
       "  Text(180, 0, '2019-07-13'),\n",
       "  Text(181, 0, '2019-07-14'),\n",
       "  Text(182, 0, '2019-07-17'),\n",
       "  Text(183, 0, '2019-07-18'),\n",
       "  Text(184, 0, '2019-07-19'),\n",
       "  Text(185, 0, '2019-07-21'),\n",
       "  Text(186, 0, '2019-07-24'),\n",
       "  Text(187, 0, '2019-07-25'),\n",
       "  Text(188, 0, '2019-07-26'),\n",
       "  Text(189, 0, '2019-07-27'),\n",
       "  Text(190, 0, '2019-07-28'),\n",
       "  Text(191, 0, '2019-07-31'),\n",
       "  Text(192, 0, '2019-08-01'),\n",
       "  Text(193, 0, '2019-08-02'),\n",
       "  Text(194, 0, '2019-08-03'),\n",
       "  Text(195, 0, '2019-08-04'),\n",
       "  Text(196, 0, '2019-08-07'),\n",
       "  Text(197, 0, '2019-08-08'),\n",
       "  Text(198, 0, '2019-08-09'),\n",
       "  Text(199, 0, '2019-08-10'),\n",
       "  Text(200, 0, '2019-08-11'),\n",
       "  Text(201, 0, '2019-08-14'),\n",
       "  Text(202, 0, '2019-08-15'),\n",
       "  Text(203, 0, '2019-08-16'),\n",
       "  Text(204, 0, '2019-08-17'),\n",
       "  Text(205, 0, '2019-08-18'),\n",
       "  Text(206, 0, '2019-08-21'),\n",
       "  Text(207, 0, '2019-08-22'),\n",
       "  Text(208, 0, '2019-08-23'),\n",
       "  Text(209, 0, '2019-08-24'),\n",
       "  Text(210, 0, '2019-08-25'),\n",
       "  Text(211, 0, '2019-08-28'),\n",
       "  Text(212, 0, '2019-08-29'),\n",
       "  Text(213, 0, '2019-08-30'),\n",
       "  Text(214, 0, '2019-08-31'),\n",
       "  Text(215, 0, '2019-09-01'),\n",
       "  Text(216, 0, '2019-09-02')])"
      ]
     },
     "execution_count": 45,
     "metadata": {},
     "output_type": "execute_result"
    },
    {
     "data": {
      "image/png": "[encoded data removed]",
      "text/plain": [
       "<Figure size 1440x720 with 1 Axes>"
      ]
     },
     "metadata": {
      "needs_background": "light"
     },
     "output_type": "display_data"
    }
   ],
   "source": [
    "plt.figure(figsize = (20,10))\n",
    "sns.countplot(data = start_table, x = 'race_date', hue = 'track_id')\n",
    "plt.xticks(rotation = .90)"
   ]
  },
  {
   "cell_type": "code",
   "execution_count": 47,
   "metadata": {},
   "outputs": [
    {
     "data": {
      "text/plain": [
       "track_id\n",
       "AQU    6190\n",
       "BEL    5539\n",
       "SAR    3185\n",
       "Name: race_date, dtype: int64"
      ]
     },
     "execution_count": 47,
     "metadata": {},
     "output_type": "execute_result"
    }
   ],
   "source": [
    "start_table.groupby(by = 'track_id').race_date.count()"
   ]
  },
  {
   "cell_type": "code",
   "execution_count": null,
   "metadata": {},
   "outputs": [],
   "source": []
  }
 ],
 "metadata": {
  "kernelspec": {
   "display_name": "Python 3.9.7 ('experimental')",
   "language": "python",
   "name": "python3"
  },
  "language_info": {
   "codemirror_mode": {
    "name": "ipython",
    "version": 3
   },
   "file_extension": ".py",
   "mimetype": "text/x-python",
   "name": "python",
   "nbconvert_exporter": "python",
   "pygments_lexer": "ipython3",
   "version": "3.9.7"
  },
  "orig_nbformat": 4,
  "vscode": {
   "interpreter": {
    "hash": "758258b5e8b45ec9f5b1e8a0f832f1f98ad6752149e10d5e95f53d93cab8a1dc"
   }
  }
 },
 "nbformat": 4,
 "nbformat_minor": 2
}
